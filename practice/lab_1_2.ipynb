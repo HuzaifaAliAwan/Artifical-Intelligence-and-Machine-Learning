{
 "cells": [
  {
   "cell_type": "markdown",
   "id": "e156f78d",
   "metadata": {},
   "source": [
    "# LAB 1 & 2\n",
    "\n",
    "---\n"
   ]
  },
  {
   "cell_type": "code",
   "execution_count": 4,
   "id": "6632c99e",
   "metadata": {},
   "outputs": [
    {
     "name": "stdout",
     "output_type": "stream",
     "text": [
      "['apple', 'banana', 'cherry']\n",
      "['apple', 'banana', 'cherry', 'orange']\n"
     ]
    }
   ],
   "source": [
    "# list \n",
    "\n",
    "fruits = ['apple', 'banana', 'cherry']\n",
    "print(fruits)\n",
    "fruits.append('orange')\n",
    "print(fruits)\n"
   ]
  },
  {
   "cell_type": "code",
   "execution_count": 6,
   "id": "7e26ca5e",
   "metadata": {},
   "outputs": [
    {
     "name": "stdout",
     "output_type": "stream",
     "text": [
      "{'name': 'Huzaifa', 'age': 23, 'profession': 'Software Engineer', 'dob': '3rd oct 2001'}\n"
     ]
    }
   ],
   "source": [
    "# Dictionary \n",
    "\n",
    "student = {\n",
    "    'name' : 'Huzaifa', \n",
    "    'age' : 23,\n",
    "    'profession' : 'Software Engineer'\n",
    "}\n",
    "student['dob'] = '3rd oct 2001'\n",
    "print(student)"
   ]
  },
  {
   "cell_type": "code",
   "execution_count": 9,
   "id": "be2672f4",
   "metadata": {},
   "outputs": [
    {
     "name": "stdout",
     "output_type": "stream",
     "text": [
      "data write successful\n"
     ]
    }
   ],
   "source": [
    "# write in file\n",
    "\n",
    "f = open('data.txt', 'w')\n",
    "f.write(str(student))\n",
    "f.close()\n",
    "\n",
    "print('data write successful')"
   ]
  },
  {
   "cell_type": "code",
   "execution_count": 14,
   "id": "e078d292",
   "metadata": {},
   "outputs": [
    {
     "name": "stdout",
     "output_type": "stream",
     "text": [
      "{'name': 'Huzaifa', 'age': 23, 'profession': 'Software Engineer', 'dob': '3rd oct 2001'}\n",
      "<class 'str'>\n"
     ]
    }
   ],
   "source": [
    "# read from file \n",
    "f = open('data.txt', 'r')\n",
    "data = f.read()\n",
    "print(data)\n",
    "print(type(data))"
   ]
  },
  {
   "cell_type": "code",
   "execution_count": 15,
   "id": "8c36d825",
   "metadata": {},
   "outputs": [
    {
     "name": "stdout",
     "output_type": "stream",
     "text": [
      "{'name': 'Huzaifa', 'age': 23, 'profession': 'Software Engineer', 'dob': '3rd oct 2001'}\n"
     ]
    }
   ],
   "source": [
    "# convert read data of file to dictionary again \n",
    "import ast\n",
    "\n",
    "updated_data = ast.literal_eval(data)\n",
    "\n",
    "print(data)"
   ]
  },
  {
   "cell_type": "markdown",
   "id": "eec92ce7",
   "metadata": {},
   "source": [
    "conclution: we cannot use json.loads() because the data contains the single quotes to surround keys which is not json standard.\n",
    "\n",
    "---"
   ]
  },
  {
   "cell_type": "markdown",
   "id": "211807a7",
   "metadata": {},
   "source": [
    "## Student Practice Tasks"
   ]
  },
  {
   "cell_type": "code",
   "execution_count": null,
   "id": "cb4980c4",
   "metadata": {},
   "outputs": [
    {
     "name": "stdout",
     "output_type": "stream",
     "text": [
      "['Islamabad', 'Lahore', 'Karachi', 'Peshawar', 'Sialkot', 'Multan']\n",
      "['Islamabad', 'Lahore', 'Peshawar', 'Sialkot', 'Multan']\n"
     ]
    }
   ],
   "source": [
    "# list of 5 cities \n",
    "cities = ['Islamabad', 'Lahore', 'Karachi', 'Peshawar', 'Sialkot']\n",
    "\n",
    "# add one city\n",
    "cities.append('Multan')\n",
    "print(cities)\n",
    "\n",
    "# remove city \n",
    "cities.remove('Karachi')\n",
    "print(cities)\n"
   ]
  },
  {
   "cell_type": "markdown",
   "id": "532db954",
   "metadata": {},
   "source": [
    "----"
   ]
  },
  {
   "cell_type": "code",
   "execution_count": 20,
   "id": "f9ad85e0",
   "metadata": {},
   "outputs": [
    {
     "name": "stdout",
     "output_type": "stream",
     "text": [
      "Data stored in a csv file\n"
     ]
    }
   ],
   "source": [
    "import pandas as pd\n",
    "\n",
    "# create record of 3 students \n",
    "data = {\n",
    "    'names' : ['Ali', 'Huzaifa', 'Aliza'],\n",
    "    'class' : ['6th', 'graduated', '12th'],\n",
    "}\n",
    "\n",
    "# create dataframe from simple dict\n",
    "data_frame = pd.DataFrame(data)\n",
    "\n",
    "# store data to csv \n",
    "data_frame.to_csv('std-data.csv', index=False)\n",
    "print('Data stored in a csv file')\n"
   ]
  },
  {
   "cell_type": "code",
   "execution_count": 21,
   "id": "0561e031",
   "metadata": {},
   "outputs": [
    {
     "name": "stdout",
     "output_type": "stream",
     "text": [
      "     names      class\n",
      "0      Ali        6th\n",
      "1  Huzaifa  graduated\n",
      "2    Aliza       12th\n"
     ]
    }
   ],
   "source": [
    "# read data from csv file\n",
    "read_data = pd.read_csv('std-data.csv')\n",
    "print(read_data)"
   ]
  },
  {
   "cell_type": "markdown",
   "id": "c873b95e",
   "metadata": {},
   "source": [
    "---"
   ]
  }
 ],
 "metadata": {
  "kernelspec": {
   "display_name": "venv",
   "language": "python",
   "name": "python3"
  },
  "language_info": {
   "codemirror_mode": {
    "name": "ipython",
    "version": 3
   },
   "file_extension": ".py",
   "mimetype": "text/x-python",
   "name": "python",
   "nbconvert_exporter": "python",
   "pygments_lexer": "ipython3",
   "version": "3.13.4"
  }
 },
 "nbformat": 4,
 "nbformat_minor": 5
}

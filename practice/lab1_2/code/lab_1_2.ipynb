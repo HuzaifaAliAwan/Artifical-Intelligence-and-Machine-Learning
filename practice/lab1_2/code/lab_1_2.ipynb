{
 "cells": [
  {
   "cell_type": "markdown",
   "id": "e156f78d",
   "metadata": {},
   "source": [
    "# LAB 1 & 2\n",
    "\n",
    "---\n"
   ]
  },
  {
   "cell_type": "code",
   "execution_count": 4,
   "id": "6632c99e",
   "metadata": {},
   "outputs": [
    {
     "name": "stdout",
     "output_type": "stream",
     "text": [
      "['apple', 'banana', 'cherry']\n",
      "['apple', 'banana', 'cherry', 'orange']\n"
     ]
    }
   ],
   "source": [
    "# list \n",
    "\n",
    "fruits = ['apple', 'banana', 'cherry']\n",
    "print(fruits)\n",
    "fruits.append('orange')\n",
    "print(fruits)\n"
   ]
  },
  {
   "cell_type": "code",
   "execution_count": 6,
   "id": "7e26ca5e",
   "metadata": {},
   "outputs": [
    {
     "name": "stdout",
     "output_type": "stream",
     "text": [
      "{'name': 'Huzaifa', 'age': 23, 'profession': 'Software Engineer', 'dob': '3rd oct 2001'}\n"
     ]
    }
   ],
   "source": [
    "# Dictionary \n",
    "\n",
    "student = {\n",
    "    'name' : 'Huzaifa', \n",
    "    'age' : 23,\n",
    "    'profession' : 'Software Engineer'\n",
    "}\n",
    "student['dob'] = '3rd oct 2001'\n",
    "print(student)"
   ]
  },
  {
   "cell_type": "code",
   "execution_count": 9,
   "id": "be2672f4",
   "metadata": {},
   "outputs": [
    {
     "name": "stdout",
     "output_type": "stream",
     "text": [
      "data write successful\n"
     ]
    }
   ],
   "source": [
    "# write in file\n",
    "\n",
    "f = open('data.txt', 'w')\n",
    "f.write(str(student))\n",
    "f.close()\n",
    "\n",
    "print('data write successful')"
   ]
  },
  {
   "cell_type": "code",
   "execution_count": 14,
   "id": "e078d292",
   "metadata": {},
   "outputs": [
    {
     "name": "stdout",
     "output_type": "stream",
     "text": [
      "{'name': 'Huzaifa', 'age': 23, 'profession': 'Software Engineer', 'dob': '3rd oct 2001'}\n",
      "<class 'str'>\n"
     ]
    }
   ],
   "source": [
    "# read from file \n",
    "f = open('data.txt', 'r')\n",
    "data = f.read()\n",
    "print(data)\n",
    "print(type(data))"
   ]
  },
  {
   "cell_type": "code",
   "execution_count": 15,
   "id": "8c36d825",
   "metadata": {},
   "outputs": [
    {
     "name": "stdout",
     "output_type": "stream",
     "text": [
      "{'name': 'Huzaifa', 'age': 23, 'profession': 'Software Engineer', 'dob': '3rd oct 2001'}\n"
     ]
    }
   ],
   "source": [
    "# convert read data of file to dictionary again \n",
    "import ast\n",
    "\n",
    "updated_data = ast.literal_eval(data)\n",
    "\n",
    "print(data)"
   ]
  },
  {
   "cell_type": "markdown",
   "id": "eec92ce7",
   "metadata": {},
   "source": [
    "conclution: we cannot use json.loads() because the data contains the single quotes to surround keys which is not json standard.\n",
    "\n",
    "---"
   ]
  },
  {
   "cell_type": "markdown",
   "id": "211807a7",
   "metadata": {},
   "source": [
    "## Student Practice Tasks"
   ]
  },
  {
   "cell_type": "code",
   "execution_count": null,
   "id": "cb4980c4",
   "metadata": {},
   "outputs": [
    {
     "name": "stdout",
     "output_type": "stream",
     "text": [
      "['Islamabad', 'Lahore', 'Karachi', 'Peshawar', 'Sialkot', 'Multan']\n",
      "['Islamabad', 'Lahore', 'Peshawar', 'Sialkot', 'Multan']\n"
     ]
    }
   ],
   "source": [
    "# list of 5 cities \n",
    "cities = ['Islamabad', 'Lahore', 'Karachi', 'Peshawar', 'Sialkot']\n",
    "\n",
    "# add one city\n",
    "cities.append('Multan')\n",
    "print(cities)\n",
    "\n",
    "# remove city \n",
    "cities.remove('Karachi')\n",
    "print(cities)\n"
   ]
  },
  {
   "cell_type": "markdown",
   "id": "532db954",
   "metadata": {},
   "source": [
    "----"
   ]
  },
  {
   "cell_type": "code",
   "execution_count": 20,
   "id": "f9ad85e0",
   "metadata": {},
   "outputs": [
    {
     "name": "stdout",
     "output_type": "stream",
     "text": [
      "Data stored in a csv file\n"
     ]
    }
   ],
   "source": [
    "import pandas as pd\n",
    "\n",
    "# create record of 3 students \n",
    "data = {\n",
    "    'names' : ['Ali', 'Huzaifa', 'Aliza'],\n",
    "    'class' : ['6th', 'graduated', '12th'],\n",
    "}\n",
    "\n",
    "# create dataframe from simple dict\n",
    "data_frame = pd.DataFrame(data)\n",
    "\n",
    "# store data to csv \n",
    "data_frame.to_csv('std-data.csv', index=False)\n",
    "print('Data stored in a csv file')\n"
   ]
  },
  {
   "cell_type": "code",
   "execution_count": 21,
   "id": "0561e031",
   "metadata": {},
   "outputs": [
    {
     "name": "stdout",
     "output_type": "stream",
     "text": [
      "     names      class\n",
      "0      Ali        6th\n",
      "1  Huzaifa  graduated\n",
      "2    Aliza       12th\n"
     ]
    }
   ],
   "source": [
    "# read data from csv file\n",
    "read_data = pd.read_csv('std-data.csv')\n",
    "print(read_data)"
   ]
  },
  {
   "cell_type": "markdown",
   "id": "c873b95e",
   "metadata": {},
   "source": [
    "---"
   ]
  },
  {
   "cell_type": "markdown",
   "id": "de403527",
   "metadata": {},
   "source": [
    "## self challenges\n"
   ]
  },
  {
   "cell_type": "code",
   "execution_count": 55,
   "id": "52a41f3b",
   "metadata": {},
   "outputs": [],
   "source": [
    "# helper functions \n",
    "def linebreak():\n",
    "    print('-'*50)\n"
   ]
  },
  {
   "cell_type": "markdown",
   "id": "3b0f30bb",
   "metadata": {},
   "source": [
    " ---\n",
    " \n",
    " 1. Sum of Digits (Loop Logic) Write a Python program that takes an integer input and calculates the sum of its digits (e.g., 123 → 6). \n",
    " \n",
    " Hint: Think of this as feature extraction from numeric data.\n",
    "\n",
    " ----"
   ]
  },
  {
   "cell_type": "code",
   "execution_count": null,
   "id": "93e3460a",
   "metadata": {},
   "outputs": [
    {
     "name": "stdout",
     "output_type": "stream",
     "text": [
      "19\n"
     ]
    }
   ],
   "source": [
    "# leaving input as contant \n",
    "\n",
    "# num = input('Enter a number: ')\n",
    "num = 123346\n",
    "\n",
    "def get_digits_sum(n):\n",
    "    return sum(int(x) for x in str(n))\n",
    "\n",
    "print(get_digits_sum(num))\n"
   ]
  },
  {
   "cell_type": "markdown",
   "id": "9f453bf6",
   "metadata": {},
   "source": [
    "---\n",
    "\n",
    " 2. Palindrome Checker Write a program that checks whether a string (e.g., 'madam') is a\n",
    " palindrome. \n",
    " Palindromes are like symmetry detection in data preprocessing.\n",
    "\n",
    " ---"
   ]
  },
  {
   "cell_type": "code",
   "execution_count": 12,
   "id": "56bb1bcc",
   "metadata": {},
   "outputs": [
    {
     "name": "stdout",
     "output_type": "stream",
     "text": [
      "True\n"
     ]
    }
   ],
   "source": [
    "# leaving input as contant\n",
    "\n",
    "# data = input('Enter a string: ')\n",
    "# data = 'roar'\n",
    "data = 'madam'\n",
    "\n",
    "def is_palindrome(data):\n",
    "    return data == data[::-1]\n",
    "\n",
    "print(is_palindrome(data))"
   ]
  },
  {
   "cell_type": "markdown",
   "id": "ab6f6f09",
   "metadata": {},
   "source": [
    "---\n",
    "\n",
    " 3. Number Guessing Game (AI Simulation) The program should generate a random number\n",
    " between 1 and 50. The user must guess it: - Print 'Too high' if the guess is greater. - Print 'Too low'\n",
    " if the guess is smaller. - Continue until correct. \n",
    " This simulates an iterative learning process.\n",
    "\n",
    " ---"
   ]
  },
  {
   "cell_type": "code",
   "execution_count": 13,
   "id": "c9061215",
   "metadata": {},
   "outputs": [],
   "source": [
    "# Easy task left for self practice"
   ]
  },
  {
   "cell_type": "markdown",
   "id": "07d85cb9",
   "metadata": {},
   "source": [
    "---\n",
    "\n",
    " 4. List Statistics Analyzer Given a list of numbers, calculate: \n",
    " - Maximum \n",
    " - Minimum \n",
    " - Mean \n",
    " - standard Deviation \n",
    " \n",
    " (without using statistics module). \n",
    " Think of this as dataset summary stats before training a model.\n",
    "\n",
    " ---"
   ]
  },
  {
   "cell_type": "code",
   "execution_count": 19,
   "id": "2a0d230d",
   "metadata": {},
   "outputs": [
    {
     "name": "stdout",
     "output_type": "stream",
     "text": [
      "Max : 74\n",
      "Min : 1\n",
      "Mean : 17\n",
      "Standard Deviation : 19.57\n"
     ]
    }
   ],
   "source": [
    "import math\n",
    "\n",
    "numbers = [12,13,4,1,6,23,7,4,23,74,23]\n",
    "\n",
    "min_value = min(numbers)\n",
    "max_value = max(numbers)\n",
    "mean_value = int(sum(numbers)/len(numbers))\n",
    "\n",
    "standard_deviation = round(math.sqrt(sum([math.pow(x-mean_value, 2) for x in numbers]) / len(numbers)),2)\n",
    "\n",
    "print(f\"Max : {max_value}\")\n",
    "print(f\"Min : {min_value}\")\n",
    "print(f\"Mean : {mean_value}\")\n",
    "print(f\"Standard Deviation : {standard_deviation}\")"
   ]
  },
  {
   "cell_type": "markdown",
   "id": "e6fb901d",
   "metadata": {},
   "source": [
    "---\n",
    "\n",
    " 5. Prime Numbers in a Range Write a program that prints all prime numbers between 1 and 100\n",
    " using a loop. \n",
    " This is similar to filtering features/data that meet a condition.\n",
    "\n",
    " ---"
   ]
  },
  {
   "cell_type": "code",
   "execution_count": 20,
   "id": "4cf37f0b",
   "metadata": {},
   "outputs": [],
   "source": [
    "# do it yourself"
   ]
  },
  {
   "cell_type": "markdown",
   "id": "c9993f89",
   "metadata": {},
   "source": [
    "---\n",
    "\n",
    " 6. Fibonacci Series Generator (While Loop) Write a program to generate the first N Fibonacci\n",
    " numbers (where N is input by the user). \n",
    " Fibonacci shows recursion/sequence patterns, useful in\n",
    " time-series AI models.\n",
    "\n",
    " ---"
   ]
  },
  {
   "cell_type": "code",
   "execution_count": 22,
   "id": "10da6082",
   "metadata": {},
   "outputs": [],
   "source": [
    "def fab_number(num):\n",
    "    # setting constants \n",
    "    # formula\n",
    "    # Fn = (c1^2 - c2^2)/sqrt(5)\n",
    "    \n",
    "    c1 = (1+math.sqrt(5))/2\n",
    "    c2 = (1-math.sqrt(5))/2\n",
    "    return (math.pow(c1,num) - math.pow(c2,num))/math.sqrt(5)"
   ]
  },
  {
   "cell_type": "code",
   "execution_count": 29,
   "id": "f81d9358",
   "metadata": {},
   "outputs": [
    {
     "name": "stdout",
     "output_type": "stream",
     "text": [
      "Fibonacci Series : [1, 1, 2, 3, 5, 8, 13, 21, 34, 55]\n"
     ]
    }
   ],
   "source": [
    "\n",
    "# setting user input as consant\n",
    "# number = input('Enter fibonacci num : ')\n",
    "number = 10\n",
    "\n",
    "print(f'Fibonacci Series : {[int(fab_number(x)) for x in range(1,number+1)]}')\n"
   ]
  },
  {
   "cell_type": "markdown",
   "id": "b4343096",
   "metadata": {},
   "source": [
    "---\n",
    "\n",
    "7. Dictionary of Word Frequencies Ask the user to enter a sentence. Count how many times each word occurs and store it in a dictionary. This is a basic NLP preprocessing step (like Bag of Words).\n",
    "\n",
    "---"
   ]
  },
  {
   "cell_type": "code",
   "execution_count": 25,
   "id": "2767ff94",
   "metadata": {},
   "outputs": [],
   "source": [
    "import string\n",
    "import pprint\n",
    "\n",
    "punctuation_marks = string.punctuation"
   ]
  },
  {
   "cell_type": "code",
   "execution_count": 26,
   "id": "1eedddd7",
   "metadata": {},
   "outputs": [],
   "source": [
    "# To remove punctuation marks from sentence\n",
    "def remove_punctuation(data):\n",
    "    for mark in punctuation_marks:\n",
    "        data = data.replace(mark, '')\n",
    "    return data"
   ]
  },
  {
   "cell_type": "code",
   "execution_count": 29,
   "id": "83e7cbd1",
   "metadata": {},
   "outputs": [
    {
     "name": "stdout",
     "output_type": "stream",
     "text": [
      "words appear as follows: \n",
      "----------------\n",
      "{'a': 1,\n",
      " 'and': 1,\n",
      " 'huge': 2,\n",
      " 'is': 4,\n",
      " 'machine': 1,\n",
      " 'sentence': 1,\n",
      " 'this': 1,\n",
      " 'tread': 1,\n",
      " 'working': 1}\n"
     ]
    }
   ],
   "source": [
    "# Skipping user input sentence \n",
    "# sentence = input('Enter a sentence : ')\n",
    "sentence = \"This is a huge sente'nce and   is working is tre'ad machine is huge.\"\n",
    "sentence = (remove_punctuation(sentence)).lower()\n",
    "\n",
    "words_list = sentence.split()\n",
    "\n",
    "words_dict = dict.fromkeys(words_list,0)\n",
    "\n",
    "for key,value in words_dict.items():\n",
    "    words_dict[key] = words_list.count(key)\n",
    "\n",
    "print(\"words appear as follows: \")\n",
    "print('----------------')\n",
    "\n",
    "pprint.pprint(words_dict)\n",
    "\n",
    "\n"
   ]
  },
  {
   "cell_type": "markdown",
   "id": "706aec4e",
   "metadata": {},
   "source": [
    "---\n",
    "\n",
    "8. Student Records with Functions Define a function that takes a list of student dictionaries (with 'name', 'marks') and returns the student with the highest marks. Simulates finding top-performing model/data point.\n",
    "\n",
    "---"
   ]
  },
  {
   "cell_type": "code",
   "execution_count": 50,
   "id": "75155756",
   "metadata": {},
   "outputs": [],
   "source": [
    "def get_heightest_marks_student(students_record):\n",
    "    if(students_record.__len__() == 0):\n",
    "        return False\n",
    "    high_index = int(0)\n",
    "    for i in range(len(students_record)):\n",
    "        # print(students_record[i])\n",
    "        if(students_record[i]['marks'] > students_record[high_index]['marks']):\n",
    "            high_index = int(i)\n",
    "    return students_record[high_index]"
   ]
  },
  {
   "cell_type": "code",
   "execution_count": 52,
   "id": "267bbf6e",
   "metadata": {},
   "outputs": [
    {
     "name": "stdout",
     "output_type": "stream",
     "text": [
      "False\n"
     ]
    }
   ],
   "source": [
    "sudents_record = [\n",
    "    {\n",
    "        'name' : 'Ali',\n",
    "        'marks' : 43\n",
    "    },\n",
    "    {\n",
    "        'name' : 'Huzaifa',\n",
    "        'marks' : 45\n",
    "    },\n",
    "    {\n",
    "        'name' : 'Aliza',\n",
    "        'marks' : 55\n",
    "    },\n",
    "    {\n",
    "        'name' : 'Fizza',\n",
    "        'marks' : 48\n",
    "    },\n",
    "    {\n",
    "        'name' : 'Amina',\n",
    "        'marks' : 49\n",
    "    }\n",
    "]\n",
    "\n",
    "test_data = []\n",
    "\n",
    "print(get_heightest_marks_student(test_data))"
   ]
  },
  {
   "cell_type": "markdown",
   "id": "6c27ba67",
   "metadata": {},
   "source": [
    "---\n",
    "\n",
    "9. Password Strength Checker Write a program that checks if a password entered by the user is strong: \n",
    "- At least 8 characters - Contains both letters and numbers - Contains at least one special character (!@#$%)  This mimics input validation in AI systems.\n",
    "\n",
    "---"
   ]
  },
  {
   "cell_type": "code",
   "execution_count": 56,
   "id": "384bc544",
   "metadata": {},
   "outputs": [],
   "source": [
    "import string \n",
    "punctuation_marks = string.punctuation\n",
    "\n",
    "# check if text contain number\n",
    "def contain_number(text):\n",
    "    for char in text:\n",
    "        if(char.isnumeric()):\n",
    "            return True\n",
    "    return False\n",
    "\n",
    "# check if text contains english letter\n",
    "def contain_letter(text):\n",
    "    for char in text:\n",
    "        if(char.isalpha()):\n",
    "            return True\n",
    "    return False\n",
    "\n",
    "# check if text contains punctuation\n",
    "def contain_punctuation(text):\n",
    "    for char in text:\n",
    "        if(char in punctuation_marks):\n",
    "            return True\n",
    "    return False"
   ]
  },
  {
   "cell_type": "code",
   "execution_count": 60,
   "id": "37cbb9bd",
   "metadata": {},
   "outputs": [],
   "source": [
    "def strength_check(password):\n",
    "    \n",
    "    linebreak()\n",
    "\n",
    "    if len(password) < 8:\n",
    "        print('Length of password in less then 8 characters')\n",
    "        linebreak()\n",
    "        return False\n",
    "    \n",
    "    if not contain_number(password):\n",
    "        print('Password does not contain number')\n",
    "        linebreak()\n",
    "        return False\n",
    "    \n",
    "    if not contain_letter(password):\n",
    "        print('Password does not contain letter')\n",
    "        linebreak()\n",
    "        return False\n",
    "\n",
    "    if not contain_punctuation(password):\n",
    "        print('Password does not contain punctuation mark')\n",
    "        linebreak()\n",
    "        return False\n",
    "\n",
    "    print('Password is Strong')\n",
    "    linebreak()\n",
    "\n",
    "    return True"
   ]
  },
  {
   "cell_type": "code",
   "execution_count": 70,
   "id": "3bd392d1",
   "metadata": {},
   "outputs": [
    {
     "name": "stdout",
     "output_type": "stream",
     "text": [
      "--------------------------------------------------\n",
      "Password is Strong\n",
      "--------------------------------------------------\n",
      "You can proceed\n"
     ]
    }
   ],
   "source": [
    "# uncomment if requried \n",
    "# password = input('Enter password')\n",
    "password = '!!!!!!!a1!'\n",
    "\n",
    "if strength_check(password):\n",
    "    print('You can proceed')\n",
    "else:\n",
    "    print('Sorry you cannot go forward from this point')\n"
   ]
  },
  {
   "cell_type": "markdown",
   "id": "d902a75b",
   "metadata": {},
   "source": [
    "---\n",
    "\n",
    "10. File I/O – Dataset Cleaner - Write a file 'data.txt' containing numbers separated by spaces. Read the file, remove duplicates, sort the numbers, and write them back to 'cleaned_data.txt'. This mimics data cleaning before ML training.\n",
    "\n",
    "---"
   ]
  },
  {
   "cell_type": "code",
   "execution_count": 96,
   "id": "e5ef20fd",
   "metadata": {},
   "outputs": [],
   "source": [
    "f = open('data.txt', 'w')\n",
    "f.write('1 2 3 4 5 6 7 8 9 10 4 5 33 55 22 44 88 1 3 2 6 90 44')\n",
    "f.close()"
   ]
  },
  {
   "cell_type": "code",
   "execution_count": 97,
   "id": "5728f3a7",
   "metadata": {},
   "outputs": [
    {
     "name": "stdout",
     "output_type": "stream",
     "text": [
      "1 2 3 4 5 6 7 8 9 10 4 5 33 55 22 44 88 1 3 2 6 90 44\n"
     ]
    }
   ],
   "source": [
    "f = open('data.txt', 'r')\n",
    "data = f.read()\n",
    "print(data)"
   ]
  },
  {
   "cell_type": "code",
   "execution_count": null,
   "id": "ef830c7b",
   "metadata": {},
   "outputs": [
    {
     "name": "stdout",
     "output_type": "stream",
     "text": [
      "[1, 2, 3, 4, 5, 6, 7, 8, 9, 10, 22, 33, 44, 55, 88, 90]\n"
     ]
    }
   ],
   "source": [
    "# split data to list and remove duplicates\n",
    "# convert dict to list then by type casting convert all values to int using map\n",
    "# create list of all these values\n",
    "# sort values\n",
    "data = list(map(int, list(dict.fromkeys(data.split(),0))))\n",
    "data.sort()\n",
    "print(data)\n"
   ]
  }
 ],
 "metadata": {
  "kernelspec": {
   "display_name": "venv",
   "language": "python",
   "name": "python3"
  },
  "language_info": {
   "codemirror_mode": {
    "name": "ipython",
    "version": 3
   },
   "file_extension": ".py",
   "mimetype": "text/x-python",
   "name": "python",
   "nbconvert_exporter": "python",
   "pygments_lexer": "ipython3",
   "version": "3.13.4"
  }
 },
 "nbformat": 4,
 "nbformat_minor": 5
}

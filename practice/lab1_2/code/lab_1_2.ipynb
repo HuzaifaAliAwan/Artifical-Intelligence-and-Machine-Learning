{
 "cells": [
  {
   "cell_type": "markdown",
   "id": "e156f78d",
   "metadata": {},
   "source": [
    "# LAB 1 & 2\n",
    "\n",
    "---\n"
   ]
  },
  {
   "cell_type": "code",
   "execution_count": 4,
   "id": "6632c99e",
   "metadata": {},
   "outputs": [
    {
     "name": "stdout",
     "output_type": "stream",
     "text": [
      "['apple', 'banana', 'cherry']\n",
      "['apple', 'banana', 'cherry', 'orange']\n"
     ]
    }
   ],
   "source": [
    "# list \n",
    "\n",
    "fruits = ['apple', 'banana', 'cherry']\n",
    "print(fruits)\n",
    "fruits.append('orange')\n",
    "print(fruits)\n"
   ]
  },
  {
   "cell_type": "code",
   "execution_count": 6,
   "id": "7e26ca5e",
   "metadata": {},
   "outputs": [
    {
     "name": "stdout",
     "output_type": "stream",
     "text": [
      "{'name': 'Huzaifa', 'age': 23, 'profession': 'Software Engineer', 'dob': '3rd oct 2001'}\n"
     ]
    }
   ],
   "source": [
    "# Dictionary \n",
    "\n",
    "student = {\n",
    "    'name' : 'Huzaifa', \n",
    "    'age' : 23,\n",
    "    'profession' : 'Software Engineer'\n",
    "}\n",
    "student['dob'] = '3rd oct 2001'\n",
    "print(student)"
   ]
  },
  {
   "cell_type": "code",
   "execution_count": 9,
   "id": "be2672f4",
   "metadata": {},
   "outputs": [
    {
     "name": "stdout",
     "output_type": "stream",
     "text": [
      "data write successful\n"
     ]
    }
   ],
   "source": [
    "# write in file\n",
    "\n",
    "f = open('data.txt', 'w')\n",
    "f.write(str(student))\n",
    "f.close()\n",
    "\n",
    "print('data write successful')"
   ]
  },
  {
   "cell_type": "code",
   "execution_count": 14,
   "id": "e078d292",
   "metadata": {},
   "outputs": [
    {
     "name": "stdout",
     "output_type": "stream",
     "text": [
      "{'name': 'Huzaifa', 'age': 23, 'profession': 'Software Engineer', 'dob': '3rd oct 2001'}\n",
      "<class 'str'>\n"
     ]
    }
   ],
   "source": [
    "# read from file \n",
    "f = open('data.txt', 'r')\n",
    "data = f.read()\n",
    "print(data)\n",
    "print(type(data))"
   ]
  },
  {
   "cell_type": "code",
   "execution_count": 15,
   "id": "8c36d825",
   "metadata": {},
   "outputs": [
    {
     "name": "stdout",
     "output_type": "stream",
     "text": [
      "{'name': 'Huzaifa', 'age': 23, 'profession': 'Software Engineer', 'dob': '3rd oct 2001'}\n"
     ]
    }
   ],
   "source": [
    "# convert read data of file to dictionary again \n",
    "import ast\n",
    "\n",
    "updated_data = ast.literal_eval(data)\n",
    "\n",
    "print(data)"
   ]
  },
  {
   "cell_type": "markdown",
   "id": "eec92ce7",
   "metadata": {},
   "source": [
    "conclution: we cannot use json.loads() because the data contains the single quotes to surround keys which is not json standard.\n",
    "\n",
    "---"
   ]
  },
  {
   "cell_type": "markdown",
   "id": "211807a7",
   "metadata": {},
   "source": [
    "## Student Practice Tasks"
   ]
  },
  {
   "cell_type": "code",
   "execution_count": null,
   "id": "cb4980c4",
   "metadata": {},
   "outputs": [
    {
     "name": "stdout",
     "output_type": "stream",
     "text": [
      "['Islamabad', 'Lahore', 'Karachi', 'Peshawar', 'Sialkot', 'Multan']\n",
      "['Islamabad', 'Lahore', 'Peshawar', 'Sialkot', 'Multan']\n"
     ]
    }
   ],
   "source": [
    "# list of 5 cities \n",
    "cities = ['Islamabad', 'Lahore', 'Karachi', 'Peshawar', 'Sialkot']\n",
    "\n",
    "# add one city\n",
    "cities.append('Multan')\n",
    "print(cities)\n",
    "\n",
    "# remove city \n",
    "cities.remove('Karachi')\n",
    "print(cities)\n"
   ]
  },
  {
   "cell_type": "markdown",
   "id": "532db954",
   "metadata": {},
   "source": [
    "----"
   ]
  },
  {
   "cell_type": "code",
   "execution_count": 20,
   "id": "f9ad85e0",
   "metadata": {},
   "outputs": [
    {
     "name": "stdout",
     "output_type": "stream",
     "text": [
      "Data stored in a csv file\n"
     ]
    }
   ],
   "source": [
    "import pandas as pd\n",
    "\n",
    "# create record of 3 students \n",
    "data = {\n",
    "    'names' : ['Ali', 'Huzaifa', 'Aliza'],\n",
    "    'class' : ['6th', 'graduated', '12th'],\n",
    "}\n",
    "\n",
    "# create dataframe from simple dict\n",
    "data_frame = pd.DataFrame(data)\n",
    "\n",
    "# store data to csv \n",
    "data_frame.to_csv('std-data.csv', index=False)\n",
    "print('Data stored in a csv file')\n"
   ]
  },
  {
   "cell_type": "code",
   "execution_count": 21,
   "id": "0561e031",
   "metadata": {},
   "outputs": [
    {
     "name": "stdout",
     "output_type": "stream",
     "text": [
      "     names      class\n",
      "0      Ali        6th\n",
      "1  Huzaifa  graduated\n",
      "2    Aliza       12th\n"
     ]
    }
   ],
   "source": [
    "# read data from csv file\n",
    "read_data = pd.read_csv('std-data.csv')\n",
    "print(read_data)"
   ]
  },
  {
   "cell_type": "markdown",
   "id": "c873b95e",
   "metadata": {},
   "source": [
    "---"
   ]
  },
  {
   "cell_type": "markdown",
   "id": "de403527",
   "metadata": {},
   "source": [
    "## self challenges\n"
   ]
  },
  {
   "cell_type": "markdown",
   "id": "3b0f30bb",
   "metadata": {},
   "source": [
    " ---\n",
    " \n",
    " 1. Sum of Digits (Loop Logic) Write a Python program that takes an integer input and calculates the sum of its digits (e.g., 123 → 6). \n",
    " \n",
    " Hint: Think of this as feature extraction from numeric data.\n",
    "\n",
    " ----"
   ]
  },
  {
   "cell_type": "code",
   "execution_count": null,
   "id": "93e3460a",
   "metadata": {},
   "outputs": [
    {
     "name": "stdout",
     "output_type": "stream",
     "text": [
      "19\n"
     ]
    }
   ],
   "source": [
    "# leaving input as contant \n",
    "\n",
    "# num = input('Enter a number: ')\n",
    "num = 123346\n",
    "\n",
    "def get_digits_sum(n):\n",
    "    return sum(int(x) for x in str(n))\n",
    "\n",
    "print(get_digits_sum(num))\n"
   ]
  },
  {
   "cell_type": "markdown",
   "id": "9f453bf6",
   "metadata": {},
   "source": [
    "---\n",
    "\n",
    " 2. Palindrome Checker Write a program that checks whether a string (e.g., 'madam') is a\n",
    " palindrome. \n",
    " Palindromes are like symmetry detection in data preprocessing.\n",
    "\n",
    " ---"
   ]
  },
  {
   "cell_type": "code",
   "execution_count": 12,
   "id": "56bb1bcc",
   "metadata": {},
   "outputs": [
    {
     "name": "stdout",
     "output_type": "stream",
     "text": [
      "True\n"
     ]
    }
   ],
   "source": [
    "# leaving input as contant\n",
    "\n",
    "# data = input('Enter a string: ')\n",
    "# data = 'roar'\n",
    "data = 'madam'\n",
    "\n",
    "def is_palindrome(data):\n",
    "    return data == data[::-1]\n",
    "\n",
    "print(is_palindrome(data))"
   ]
  },
  {
   "cell_type": "markdown",
   "id": "ab6f6f09",
   "metadata": {},
   "source": [
    "---\n",
    "\n",
    " 3. Number Guessing Game (AI Simulation) The program should generate a random number\n",
    " between 1 and 50. The user must guess it: - Print 'Too high' if the guess is greater. - Print 'Too low'\n",
    " if the guess is smaller. - Continue until correct. \n",
    " This simulates an iterative learning process.\n",
    "\n",
    " ---"
   ]
  },
  {
   "cell_type": "code",
   "execution_count": 13,
   "id": "c9061215",
   "metadata": {},
   "outputs": [],
   "source": [
    "# Easy task left for self practice"
   ]
  },
  {
   "cell_type": "markdown",
   "id": "07d85cb9",
   "metadata": {},
   "source": [
    "---\n",
    "\n",
    " 4. List Statistics Analyzer Given a list of numbers, calculate: \n",
    " - Maximum \n",
    " - Minimum \n",
    " - Mean \n",
    " - standard Deviation \n",
    " \n",
    " (without using statistics module). \n",
    " Think of this as dataset summary stats before training a model.\n",
    "\n",
    " ---"
   ]
  },
  {
   "cell_type": "code",
   "execution_count": 19,
   "id": "2a0d230d",
   "metadata": {},
   "outputs": [
    {
     "name": "stdout",
     "output_type": "stream",
     "text": [
      "Max : 74\n",
      "Min : 1\n",
      "Mean : 17\n",
      "Standard Deviation : 19.57\n"
     ]
    }
   ],
   "source": [
    "import math\n",
    "\n",
    "numbers = [12,13,4,1,6,23,7,4,23,74,23]\n",
    "\n",
    "min_value = min(numbers)\n",
    "max_value = max(numbers)\n",
    "mean_value = int(sum(numbers)/len(numbers))\n",
    "\n",
    "standard_deviation = round(math.sqrt(sum([math.pow(x-mean_value, 2) for x in numbers]) / len(numbers)),2)\n",
    "\n",
    "print(f\"Max : {max_value}\")\n",
    "print(f\"Min : {min_value}\")\n",
    "print(f\"Mean : {mean_value}\")\n",
    "print(f\"Standard Deviation : {standard_deviation}\")"
   ]
  },
  {
   "cell_type": "markdown",
   "id": "e6fb901d",
   "metadata": {},
   "source": [
    "---\n",
    "\n",
    " 5. Prime Numbers in a Range Write a program that prints all prime numbers between 1 and 100\n",
    " using a loop. \n",
    " This is similar to filtering features/data that meet a condition.\n",
    "\n",
    " ---"
   ]
  },
  {
   "cell_type": "code",
   "execution_count": 20,
   "id": "4cf37f0b",
   "metadata": {},
   "outputs": [],
   "source": [
    "# do it yourself"
   ]
  },
  {
   "cell_type": "markdown",
   "id": "c9993f89",
   "metadata": {},
   "source": [
    "---\n",
    "\n",
    " 6. Fibonacci Series Generator (While Loop) Write a program to generate the first N Fibonacci\n",
    " numbers (where N is input by the user). \n",
    " Fibonacci shows recursion/sequence patterns, useful in\n",
    " time-series AI models.\n",
    "\n",
    " ---"
   ]
  },
  {
   "cell_type": "code",
   "execution_count": 22,
   "id": "10da6082",
   "metadata": {},
   "outputs": [],
   "source": [
    "def fab_number(num):\n",
    "    # setting constants \n",
    "    # formula\n",
    "    # Fn = (c1^2 - c2^2)/sqrt(5)\n",
    "    \n",
    "    c1 = (1+math.sqrt(5))/2\n",
    "    c2 = (1-math.sqrt(5))/2\n",
    "    return (math.pow(c1,num) - math.pow(c2,num))/math.sqrt(5)"
   ]
  },
  {
   "cell_type": "code",
   "execution_count": 29,
   "id": "f81d9358",
   "metadata": {},
   "outputs": [
    {
     "name": "stdout",
     "output_type": "stream",
     "text": [
      "Fibonacci Series : [1, 1, 2, 3, 5, 8, 13, 21, 34, 55]\n"
     ]
    }
   ],
   "source": [
    "\n",
    "# setting user input as consant\n",
    "# number = input('Enter fibonacci num : ')\n",
    "number = 10\n",
    "\n",
    "print(f'Fibonacci Series : {[int(fab_number(x)) for x in range(1,number+1)]}')\n"
   ]
  }
 ],
 "metadata": {
  "kernelspec": {
   "display_name": "venv",
   "language": "python",
   "name": "python3"
  },
  "language_info": {
   "codemirror_mode": {
    "name": "ipython",
    "version": 3
   },
   "file_extension": ".py",
   "mimetype": "text/x-python",
   "name": "python",
   "nbconvert_exporter": "python",
   "pygments_lexer": "ipython3",
   "version": "3.13.4"
  }
 },
 "nbformat": 4,
 "nbformat_minor": 5
}

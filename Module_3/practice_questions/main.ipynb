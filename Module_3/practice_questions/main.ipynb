{
 "cells": [
  {
   "cell_type": "markdown",
   "id": "29e90ef0",
   "metadata": {},
   "source": [
    "--- \n",
    "**Author** : Huzaifa Ali\n",
    "\n",
    "**Email** : *huzaifaa0303@gmail.com*\n",
    "\n",
    "---"
   ]
  },
  {
   "cell_type": "code",
   "execution_count": 50,
   "id": "2da441f1",
   "metadata": {},
   "outputs": [],
   "source": [
    "# pip install -r requirements.txt"
   ]
  },
  {
   "cell_type": "markdown",
   "id": "04868573",
   "metadata": {},
   "source": [
    "1. Create a DataFrame from a dictionary."
   ]
  },
  {
   "cell_type": "code",
   "execution_count": 51,
   "id": "adcf7983",
   "metadata": {},
   "outputs": [],
   "source": [
    "import pandas as pd\n",
    "\n",
    "data = pd.DataFrame({\n",
    "    'Name' : ['Huzaifa', 'Amina', 'Ali', 'Izza', 'Fizza'],\n",
    "    'Age' : [23,25,26,27,None],\n",
    "    'Subject' : ['Computer', 'Arts', 'Physics', 'Maths', 'Chemistry'],\n",
    "    'Marks' : [90, 70, 60, 50, None] \n",
    "})"
   ]
  },
  {
   "cell_type": "markdown",
   "id": "9936776b",
   "metadata": {},
   "source": [
    "---\n",
    "\n",
    " 2. Read a CSV into a DataFrame.\n"
   ]
  },
  {
   "cell_type": "code",
   "execution_count": 52,
   "id": "43888f53",
   "metadata": {},
   "outputs": [],
   "source": [
    "# Creating a csv in order to read it later\n",
    "# Create CSV\n",
    "data.to_csv('sample_data.csv', index=False)\n",
    "\n",
    "# Explanation: \n",
    "# Index is set to false because not wanted to add index numbers to csv file, it already contain those by default \n",
    "\n",
    "# Read CSV\n",
    "data = pd.read_csv('sample_data.csv')"
   ]
  },
  {
   "cell_type": "markdown",
   "id": "b95b23ea",
   "metadata": {},
   "source": [
    "--- \n",
    "\n",
    "3. Display first 5 rows."
   ]
  },
  {
   "cell_type": "code",
   "execution_count": 53,
   "id": "5867ecb8",
   "metadata": {},
   "outputs": [
    {
     "name": "stdout",
     "output_type": "stream",
     "text": [
      "      Name   Age    Subject  Marks\n",
      "0  Huzaifa  23.0   Computer   90.0\n",
      "1    Amina  25.0       Arts   70.0\n",
      "2      Ali  26.0    Physics   60.0\n",
      "3     Izza  27.0      Maths   50.0\n",
      "4    Fizza   NaN  Chemistry    NaN\n"
     ]
    }
   ],
   "source": [
    "print(data.head())"
   ]
  },
  {
   "cell_type": "markdown",
   "id": "7b06b0a0",
   "metadata": {},
   "source": [
    "---\n",
    "\n",
    "4. Fill missing values with column mean."
   ]
  },
  {
   "cell_type": "code",
   "execution_count": 54,
   "id": "c4fe7ccf",
   "metadata": {},
   "outputs": [
    {
     "data": {
      "text/plain": [
       "Name       0\n",
       "Age        1\n",
       "Subject    0\n",
       "Marks      1\n",
       "dtype: int64"
      ]
     },
     "execution_count": 54,
     "metadata": {},
     "output_type": "execute_result"
    }
   ],
   "source": [
    "# First check if there is any missing value\n",
    "data.isnull().sum()"
   ]
  },
  {
   "cell_type": "code",
   "execution_count": 55,
   "id": "797f18d5",
   "metadata": {},
   "outputs": [
    {
     "name": "stdout",
     "output_type": "stream",
     "text": [
      "      Name   Age    Subject  Marks\n",
      "0  Huzaifa  23.0   Computer   90.0\n",
      "1    Amina  25.0       Arts   70.0\n",
      "2      Ali  26.0    Physics   60.0\n",
      "3     Izza  27.0      Maths   50.0\n",
      "4    Fizza  25.0  Chemistry   67.0\n"
     ]
    }
   ],
   "source": [
    "# Fill missing values of column which contains numeric data with their mean \n",
    "cleaned_data = data.fillna(\n",
    "    {\n",
    "        'Age' : int(data['Age'].mean()),\n",
    "        'Marks' : int(data['Marks'].mean())\n",
    "     },\n",
    "    inplace=False\n",
    ")\n",
    "\n",
    "print(cleaned_data)"
   ]
  },
  {
   "cell_type": "markdown",
   "id": "c3db3865",
   "metadata": {},
   "source": [
    "--- \n",
    "\n",
    "5. Sort DataFrame by a column.\n"
   ]
  },
  {
   "cell_type": "code",
   "execution_count": 56,
   "id": "78c7a911",
   "metadata": {},
   "outputs": [
    {
     "name": "stdout",
     "output_type": "stream",
     "text": [
      "      Name   Age    Subject  Marks\n",
      "2      Ali  26.0    Physics   60.0\n",
      "1    Amina  25.0       Arts   70.0\n",
      "4    Fizza  25.0  Chemistry   67.0\n",
      "0  Huzaifa  23.0   Computer   90.0\n",
      "3     Izza  27.0      Maths   50.0\n"
     ]
    }
   ],
   "source": [
    "sorted_data = cleaned_data.sort_values('Name')\n",
    "\n",
    "print(sorted_data)"
   ]
  },
  {
   "cell_type": "markdown",
   "id": "2847eb9a",
   "metadata": {},
   "source": [
    "---\n",
    "\n",
    " 6. Filter rows (marks > 80).\n"
   ]
  },
  {
   "cell_type": "code",
   "execution_count": 57,
   "id": "708d0ed9",
   "metadata": {},
   "outputs": [
    {
     "name": "stdout",
     "output_type": "stream",
     "text": [
      "      Name   Age   Subject  Marks\n",
      "0  Huzaifa  23.0  Computer   90.0\n"
     ]
    }
   ],
   "source": [
    "filtered_data = sorted_data.query('Marks > 80')\n",
    "print(filtered_data)"
   ]
  },
  {
   "cell_type": "markdown",
   "id": "a3fa5676",
   "metadata": {},
   "source": [
    "---\n",
    "\n",
    " 7. Add pass/fail column."
   ]
  },
  {
   "cell_type": "code",
   "execution_count": 58,
   "id": "b0212193",
   "metadata": {},
   "outputs": [
    {
     "name": "stdout",
     "output_type": "stream",
     "text": [
      "New Data : \n",
      "      Name   Age    Subject  Marks Result\n",
      "0  Huzaifa  23.0   Computer   90.0   Pass\n",
      "1    Amina  25.0       Arts   70.0   Pass\n",
      "2      Ali  26.0    Physics   60.0   Pass\n",
      "3     Izza  27.0      Maths   50.0   Fail\n",
      "4    Fizza  25.0  Chemistry   67.0   Pass\n"
     ]
    }
   ],
   "source": [
    "cleaned_data.loc[cleaned_data['Marks'] > 50, 'Result'] = 'Pass'\n",
    "cleaned_data.loc[cleaned_data['Marks'] <= 50, 'Result'] = 'Fail'\n",
    "\n",
    "print(f'New Data : \\n{cleaned_data}')"
   ]
  },
  {
   "cell_type": "markdown",
   "id": "42690f84",
   "metadata": {},
   "source": [
    "---\n",
    "\n",
    " 8. Group by column and compute mean."
   ]
  },
  {
   "cell_type": "code",
   "execution_count": 59,
   "id": "d810563e",
   "metadata": {},
   "outputs": [
    {
     "name": "stdout",
     "output_type": "stream",
     "text": [
      "Mean of Data Value : \n",
      "Age\n",
      "23.0    90.0\n",
      "25.0    68.5\n",
      "26.0    60.0\n",
      "27.0    50.0\n",
      "Name: Marks, dtype: float64\n"
     ]
    }
   ],
   "source": [
    "numeric_data = cleaned_data.select_dtypes(include='number')\n",
    "mean_of_numeric_data = numeric_data.groupby('Age')['Marks'].mean()\n",
    "\n",
    "print(f'Mean of Data Value : \\n{mean_of_numeric_data}')"
   ]
  }
 ],
 "metadata": {
  "kernelspec": {
   "display_name": "venv (3.12.1)",
   "language": "python",
   "name": "python3"
  },
  "language_info": {
   "codemirror_mode": {
    "name": "ipython",
    "version": 3
   },
   "file_extension": ".py",
   "mimetype": "text/x-python",
   "name": "python",
   "nbconvert_exporter": "python",
   "pygments_lexer": "ipython3",
   "version": "3.12.1"
  }
 },
 "nbformat": 4,
 "nbformat_minor": 5
}

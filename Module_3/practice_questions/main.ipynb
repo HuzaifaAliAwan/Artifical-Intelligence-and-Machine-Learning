{
 "cells": [
  {
   "cell_type": "markdown",
   "id": "29e90ef0",
   "metadata": {},
   "source": [
    "--- \n",
    "**Author** : Huzaifa Ali\n",
    "\n",
    "**Email** : *huzaifaa0303@gmail.com*\n",
    "\n",
    "---"
   ]
  },
  {
   "cell_type": "markdown",
   "id": "04868573",
   "metadata": {},
   "source": [
    "1. Create a DataFrame from a dictionary."
   ]
  },
  {
   "cell_type": "code",
   "execution_count": 1,
   "id": "adcf7983",
   "metadata": {},
   "outputs": [],
   "source": [
    "import pandas as pd\n",
    "\n",
    "data = pd.DataFrame({\n",
    "    'Name' : ['Huzaifa', 'Amina', 'Ali', 'Izza', 'Fizza'],\n",
    "    'Age' : [23,25,26,27,None],\n",
    "    'Subject' : ['Computer', 'Arts', 'Physics', 'Maths', 'Chemistry'],\n",
    "    'Marks' : [90, 70, 60, 50, None] \n",
    "})"
   ]
  },
  {
   "cell_type": "markdown",
   "id": "9936776b",
   "metadata": {},
   "source": [
    "---\n",
    "\n",
    " 2. Read a CSV into a DataFrame.\n"
   ]
  },
  {
   "cell_type": "code",
   "execution_count": 2,
   "id": "43888f53",
   "metadata": {},
   "outputs": [],
   "source": [
    "# Creating a csv in order to read it later\n",
    "# Create CSV\n",
    "data.to_csv('sample_data.csv', index=False)\n",
    "\n",
    "# Explanation: \n",
    "# Index is set to false because not wanted to add index numbers to csv file, it already contain those by default \n",
    "\n",
    "# Read CSV\n",
    "data = pd.read_csv('sample_data.csv')"
   ]
  },
  {
   "cell_type": "markdown",
   "id": "b95b23ea",
   "metadata": {},
   "source": [
    "--- \n",
    "\n",
    "3. Display first 5 rows."
   ]
  },
  {
   "cell_type": "code",
   "execution_count": 3,
   "id": "5867ecb8",
   "metadata": {},
   "outputs": [
    {
     "name": "stdout",
     "output_type": "stream",
     "text": [
      "      Name   Age    Subject  Marks\n",
      "0  Huzaifa  23.0   Computer   90.0\n",
      "1    Amina  25.0       Arts   70.0\n",
      "2      Ali  26.0    Physics   60.0\n",
      "3     Izza  27.0      Maths   50.0\n",
      "4    Fizza   NaN  Chemistry    NaN\n"
     ]
    }
   ],
   "source": [
    "print(data.head())"
   ]
  },
  {
   "cell_type": "markdown",
   "id": "7b06b0a0",
   "metadata": {},
   "source": [
    "---\n",
    "\n",
    "4. Fill missing values with column mean."
   ]
  },
  {
   "cell_type": "code",
   "execution_count": 4,
   "id": "c4fe7ccf",
   "metadata": {},
   "outputs": [
    {
     "data": {
      "text/plain": [
       "Name       0\n",
       "Age        1\n",
       "Subject    0\n",
       "Marks      1\n",
       "dtype: int64"
      ]
     },
     "execution_count": 4,
     "metadata": {},
     "output_type": "execute_result"
    }
   ],
   "source": [
    "# First check if there is any missing value\n",
    "data.isnull().sum()"
   ]
  },
  {
   "cell_type": "code",
   "execution_count": 5,
   "id": "797f18d5",
   "metadata": {},
   "outputs": [
    {
     "name": "stdout",
     "output_type": "stream",
     "text": [
      "      Name    Age    Subject  Marks\n",
      "0  Huzaifa  23.00   Computer   90.0\n",
      "1    Amina  25.00       Arts   70.0\n",
      "2      Ali  26.00    Physics   60.0\n",
      "3     Izza  27.00      Maths   50.0\n",
      "4    Fizza  25.25  Chemistry   67.5\n"
     ]
    }
   ],
   "source": [
    "# Fill missing values of column which contains numeric data with their mean \n",
    "cleaned_data = data.fillna(\n",
    "    {\n",
    "        'Age' : data['Age'].mean(),\n",
    "        'Marks' : data['Marks'].mean()\n",
    "     },\n",
    "    inplace=False\n",
    ")\n",
    "\n",
    "print(cleaned_data)"
   ]
  },
  {
   "cell_type": "markdown",
   "id": "c3db3865",
   "metadata": {},
   "source": [
    "--- \n",
    "\n",
    "5. Sort DataFrame by a column.\n"
   ]
  },
  {
   "cell_type": "code",
   "execution_count": 6,
   "id": "78c7a911",
   "metadata": {},
   "outputs": [
    {
     "name": "stdout",
     "output_type": "stream",
     "text": [
      "      Name    Age    Subject  Marks\n",
      "2      Ali  26.00    Physics   60.0\n",
      "1    Amina  25.00       Arts   70.0\n",
      "4    Fizza  25.25  Chemistry   67.5\n",
      "0  Huzaifa  23.00   Computer   90.0\n",
      "3     Izza  27.00      Maths   50.0\n"
     ]
    }
   ],
   "source": [
    "sorted_data = cleaned_data.sort_values('Name')\n",
    "\n",
    "print(sorted_data)"
   ]
  },
  {
   "cell_type": "markdown",
   "id": "2847eb9a",
   "metadata": {},
   "source": [
    "---\n",
    "\n",
    " 6. Filter rows (marks > 80).\n"
   ]
  },
  {
   "cell_type": "code",
   "execution_count": 7,
   "id": "708d0ed9",
   "metadata": {},
   "outputs": [
    {
     "name": "stdout",
     "output_type": "stream",
     "text": [
      "      Name   Age   Subject  Marks\n",
      "0  Huzaifa  23.0  Computer   90.0\n"
     ]
    }
   ],
   "source": [
    "filtered_data = sorted_data.query('Marks > 80')\n",
    "print(filtered_data)"
   ]
  },
  {
   "cell_type": "code",
   "execution_count": null,
   "id": "b0212193",
   "metadata": {},
   "outputs": [],
   "source": []
  }
 ],
 "metadata": {
  "kernelspec": {
   "display_name": "venv",
   "language": "python",
   "name": "python3"
  },
  "language_info": {
   "codemirror_mode": {
    "name": "ipython",
    "version": 3
   },
   "file_extension": ".py",
   "mimetype": "text/x-python",
   "name": "python",
   "nbconvert_exporter": "python",
   "pygments_lexer": "ipython3",
   "version": "3.13.3"
  }
 },
 "nbformat": 4,
 "nbformat_minor": 5
}

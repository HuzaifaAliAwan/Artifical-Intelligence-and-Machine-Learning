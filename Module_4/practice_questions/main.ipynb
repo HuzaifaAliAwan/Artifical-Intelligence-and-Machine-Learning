{
 "cells": [
  {
   "cell_type": "markdown",
   "id": "29e90ef0",
   "metadata": {},
   "source": [
    "--- \n",
    "**Author** : Huzaifa Ali\n",
    "\n",
    "**Email** : *huzaifaa0303@gmail.com*\n",
    "\n",
    "---"
   ]
  },
  {
   "cell_type": "code",
   "execution_count": null,
   "id": "2da441f1",
   "metadata": {},
   "outputs": [],
   "source": [
    "# pip install -r requirements.txt"
   ]
  },
  {
   "cell_type": "code",
   "execution_count": null,
   "id": "35dd9931",
   "metadata": {},
   "outputs": [],
   "source": [
    "def linebreak():\n",
    "    print('-' * 50)"
   ]
  },
  {
   "cell_type": "markdown",
   "id": "04868573",
   "metadata": {},
   "source": [
    "1. Create a DataFrame from a dictionary."
   ]
  },
  {
   "cell_type": "code",
   "execution_count": null,
   "id": "adcf7983",
   "metadata": {},
   "outputs": [],
   "source": [
    "import pandas as pd\n",
    "\n",
    "data = pd.DataFrame({\n",
    "    'Name' : ['Huzaifa', 'Amina', 'Ali', 'Izza', 'Fizza'],\n",
    "    'Age' : [23,25,26,27,None],\n",
    "    'Subject' : ['Computer', 'Arts', 'Physics', 'Maths', 'Chemistry'],\n",
    "    'Marks' : [90, 70, 60, 50, None] \n",
    "})"
   ]
  },
  {
   "cell_type": "markdown",
   "id": "9936776b",
   "metadata": {},
   "source": [
    "---\n",
    "\n",
    " 2. Read a CSV into a DataFrame.\n"
   ]
  },
  {
   "cell_type": "code",
   "execution_count": null,
   "id": "43888f53",
   "metadata": {},
   "outputs": [],
   "source": [
    "# Creating a csv in order to read it later\n",
    "# Create CSV\n",
    "data.to_csv('sample_data.csv', index=False)\n",
    "\n",
    "# Explanation: \n",
    "# Index is set to false because not wanted to add index numbers to csv file, it already contain those by default \n",
    "\n",
    "# Read CSV\n",
    "data = pd.read_csv('sample_data.csv')"
   ]
  },
  {
   "cell_type": "markdown",
   "id": "b95b23ea",
   "metadata": {},
   "source": [
    "--- \n",
    "\n",
    "3. Display first 5 rows."
   ]
  },
  {
   "cell_type": "code",
   "execution_count": null,
   "id": "5867ecb8",
   "metadata": {},
   "outputs": [
    {
     "name": "stdout",
     "output_type": "stream",
     "text": [
      "      Name   Age    Subject  Marks\n",
      "0  Huzaifa  23.0   Computer   90.0\n",
      "1    Amina  25.0       Arts   70.0\n",
      "2      Ali  26.0    Physics   60.0\n",
      "3     Izza  27.0      Maths   50.0\n",
      "4    Fizza   NaN  Chemistry    NaN\n"
     ]
    }
   ],
   "source": [
    "print(data.head())"
   ]
  },
  {
   "cell_type": "markdown",
   "id": "7b06b0a0",
   "metadata": {},
   "source": [
    "---\n",
    "\n",
    "4. Fill missing values with column mean."
   ]
  },
  {
   "cell_type": "code",
   "execution_count": null,
   "id": "c4fe7ccf",
   "metadata": {},
   "outputs": [
    {
     "data": {
      "text/plain": [
       "Name       0\n",
       "Age        1\n",
       "Subject    0\n",
       "Marks      1\n",
       "dtype: int64"
      ]
     },
     "execution_count": 6,
     "metadata": {},
     "output_type": "execute_result"
    }
   ],
   "source": [
    "# First check if there is any missing value\n",
    "data.isnull().sum()"
   ]
  },
  {
   "cell_type": "code",
   "execution_count": null,
   "id": "797f18d5",
   "metadata": {},
   "outputs": [
    {
     "name": "stdout",
     "output_type": "stream",
     "text": [
      "      Name   Age    Subject  Marks\n",
      "0  Huzaifa  23.0   Computer   90.0\n",
      "1    Amina  25.0       Arts   70.0\n",
      "2      Ali  26.0    Physics   60.0\n",
      "3     Izza  27.0      Maths   50.0\n",
      "4    Fizza  25.0  Chemistry   67.0\n"
     ]
    }
   ],
   "source": [
    "# Fill missing values of column which contains numeric data with their mean \n",
    "cleaned_data = data.fillna(\n",
    "    {\n",
    "        'Age' : int(data['Age'].mean()),\n",
    "        'Marks' : int(data['Marks'].mean())\n",
    "     },\n",
    "    inplace=False\n",
    ")\n",
    "\n",
    "print(cleaned_data)"
   ]
  },
  {
   "cell_type": "markdown",
   "id": "c3db3865",
   "metadata": {},
   "source": [
    "--- \n",
    "\n",
    "5. Sort DataFrame by a column.\n"
   ]
  },
  {
   "cell_type": "code",
   "execution_count": null,
   "id": "78c7a911",
   "metadata": {},
   "outputs": [
    {
     "name": "stdout",
     "output_type": "stream",
     "text": [
      "      Name   Age    Subject  Marks\n",
      "2      Ali  26.0    Physics   60.0\n",
      "1    Amina  25.0       Arts   70.0\n",
      "4    Fizza  25.0  Chemistry   67.0\n",
      "0  Huzaifa  23.0   Computer   90.0\n",
      "3     Izza  27.0      Maths   50.0\n"
     ]
    }
   ],
   "source": [
    "sorted_data = cleaned_data.sort_values('Name')\n",
    "\n",
    "print(sorted_data)"
   ]
  },
  {
   "cell_type": "markdown",
   "id": "2847eb9a",
   "metadata": {},
   "source": [
    "---\n",
    "\n",
    " 6. Filter rows (marks > 80).\n"
   ]
  },
  {
   "cell_type": "code",
   "execution_count": null,
   "id": "708d0ed9",
   "metadata": {},
   "outputs": [
    {
     "name": "stdout",
     "output_type": "stream",
     "text": [
      "      Name   Age   Subject  Marks\n",
      "0  Huzaifa  23.0  Computer   90.0\n"
     ]
    }
   ],
   "source": [
    "filtered_data = sorted_data.query('Marks > 80')\n",
    "print(filtered_data)"
   ]
  },
  {
   "cell_type": "markdown",
   "id": "a3fa5676",
   "metadata": {},
   "source": [
    "---\n",
    "\n",
    " 7. Add pass/fail column."
   ]
  },
  {
   "cell_type": "code",
   "execution_count": null,
   "id": "b0212193",
   "metadata": {},
   "outputs": [
    {
     "name": "stdout",
     "output_type": "stream",
     "text": [
      "New Data : \n",
      "      Name   Age    Subject  Marks Result\n",
      "0  Huzaifa  23.0   Computer   90.0   Pass\n",
      "1    Amina  25.0       Arts   70.0   Pass\n",
      "2      Ali  26.0    Physics   60.0   Pass\n",
      "3     Izza  27.0      Maths   50.0   Fail\n",
      "4    Fizza  25.0  Chemistry   67.0   Pass\n"
     ]
    }
   ],
   "source": [
    "cleaned_data.loc[cleaned_data['Marks'] > 50, 'Result'] = 'Pass'\n",
    "cleaned_data.loc[cleaned_data['Marks'] <= 50, 'Result'] = 'Fail'\n",
    "\n",
    "print(f'New Data : \\n{cleaned_data}')"
   ]
  },
  {
   "cell_type": "markdown",
   "id": "42690f84",
   "metadata": {},
   "source": [
    "---\n",
    "\n",
    " 8. Group by column and compute mean."
   ]
  },
  {
   "cell_type": "code",
   "execution_count": null,
   "id": "d810563e",
   "metadata": {},
   "outputs": [
    {
     "name": "stdout",
     "output_type": "stream",
     "text": [
      "Mean of Data Value : \n",
      "Age\n",
      "23.0    90.0\n",
      "25.0    68.5\n",
      "26.0    60.0\n",
      "27.0    50.0\n",
      "Name: Marks, dtype: float64\n"
     ]
    }
   ],
   "source": [
    "numeric_data = cleaned_data.select_dtypes(include='number')\n",
    "mean_of_numeric_data = numeric_data.groupby('Age')['Marks'].mean()\n",
    "\n",
    "print(f'Mean of Data Value : \\n{mean_of_numeric_data}')"
   ]
  },
  {
   "cell_type": "markdown",
   "id": "be00ffad",
   "metadata": {},
   "source": [
    "---\n",
    "\n",
    " 9. Merge two DataFrames."
   ]
  },
  {
   "cell_type": "code",
   "execution_count": null,
   "id": "39cd1935",
   "metadata": {},
   "outputs": [
    {
     "name": "stdout",
     "output_type": "stream",
     "text": [
      "First dataset:\n",
      "       Name  Score\n",
      "0  Huzaifa     88\n",
      "1    Amina     92\n",
      "2      Ali     20\n",
      "\n",
      "Second dataset:\n",
      "     Name Grade\n",
      "0    Ali     B\n",
      "1   Izza     A\n",
      "2  Fizza    B+\n"
     ]
    }
   ],
   "source": [
    "# Create first dataset\n",
    "df1 = pd.DataFrame({\n",
    "    'Name': ['Huzaifa', 'Amina', 'Ali'],\n",
    "    'Score': [88, 92, 20]\n",
    "})\n",
    "\n",
    "# Create second dataset\n",
    "df2 = pd.DataFrame({\n",
    "    'Name': ['Ali', 'Izza', 'Fizza'],\n",
    "    'Grade': ['B', 'A', 'B+']\n",
    "})\n",
    "\n",
    "print(\"First dataset:\\n\", df1)\n",
    "print(\"\\nSecond dataset:\\n\", df2)"
   ]
  },
  {
   "cell_type": "code",
   "execution_count": null,
   "id": "d00978f1",
   "metadata": {},
   "outputs": [
    {
     "name": "stdout",
     "output_type": "stream",
     "text": [
      "  Name  Score Grade\n",
      "0  Ali     20     B\n"
     ]
    }
   ],
   "source": [
    "# by default merge\n",
    "new_df = df1.merge(df2)\n",
    "print(new_df)"
   ]
  },
  {
   "cell_type": "code",
   "execution_count": null,
   "id": "53c6302e",
   "metadata": {},
   "outputs": [
    {
     "name": "stdout",
     "output_type": "stream",
     "text": [
      "      Name  Score Grade\n",
      "0      Ali   20.0     B\n",
      "1    Amina   92.0   NaN\n",
      "2    Fizza    NaN    B+\n",
      "3  Huzaifa   88.0   NaN\n",
      "4     Izza    NaN     A\n"
     ]
    }
   ],
   "source": [
    "# to get all rows of data\n",
    "new_df_all_rows = pd.merge(df1, df2, how='outer')\n",
    "print(new_df_all_rows)"
   ]
  },
  {
   "cell_type": "markdown",
   "id": "8fe8e6ea",
   "metadata": {},
   "source": [
    "---\n",
    "\n",
    " 10. Drop a column.\n"
   ]
  },
  {
   "cell_type": "code",
   "execution_count": null,
   "id": "f1b9ff00",
   "metadata": {},
   "outputs": [
    {
     "name": "stdout",
     "output_type": "stream",
     "text": [
      "Index(['Name', 'Score', 'Grade'], dtype='object')\n",
      "      Name  Score\n",
      "0      Ali   20.0\n",
      "1    Amina   92.0\n",
      "2    Fizza    NaN\n",
      "3  Huzaifa   88.0\n",
      "4     Izza    NaN\n"
     ]
    }
   ],
   "source": [
    "# see all cols\n",
    "print(new_df_all_rows.columns)\n",
    "\n",
    "updated_df = new_df_all_rows.drop(columns=['Grade'], inplace=False)\n",
    "\n",
    "print(updated_df)"
   ]
  },
  {
   "cell_type": "markdown",
   "id": "6139b000",
   "metadata": {},
   "source": [
    "---\n",
    "\n",
    " 11. Replace values <50 with 0.\n"
   ]
  },
  {
   "cell_type": "code",
   "execution_count": null,
   "id": "3ef1cc89",
   "metadata": {},
   "outputs": [
    {
     "name": "stdout",
     "output_type": "stream",
     "text": [
      "      Name  Score\n",
      "0      Ali    0.0\n",
      "1    Amina   92.0\n",
      "2    Fizza    NaN\n",
      "3  Huzaifa   88.0\n",
      "4     Izza    NaN\n"
     ]
    }
   ],
   "source": [
    "updated_df.loc[updated_df['Score'] < 50, 'Score'] = 0\n",
    "\n",
    "print(updated_df)"
   ]
  },
  {
   "cell_type": "markdown",
   "id": "84055f0b",
   "metadata": {},
   "source": [
    "---\n",
    "\n",
    " 12. Sum a column."
   ]
  },
  {
   "cell_type": "code",
   "execution_count": null,
   "id": "277730e4",
   "metadata": {},
   "outputs": [
    {
     "name": "stdout",
     "output_type": "stream",
     "text": [
      "180.0\n"
     ]
    }
   ],
   "source": [
    "# Sum of all scores\n",
    "print(updated_df['Score'].sum())"
   ]
  },
  {
   "cell_type": "markdown",
   "id": "fa426348",
   "metadata": {},
   "source": [
    "---\n",
    "\n",
    " 13. Create a Series from a list."
   ]
  },
  {
   "cell_type": "code",
   "execution_count": null,
   "id": "5145a4cb",
   "metadata": {},
   "outputs": [
    {
     "name": "stdout",
     "output_type": "stream",
     "text": [
      "List : \n",
      "[12, 34, 12, 5, 23, 5, 12, 6, 32]\n",
      "--------------------------------------------------\n",
      "Series \n",
      " 0    12\n",
      "1    34\n",
      "2    12\n",
      "3     5\n",
      "4    23\n",
      "5     5\n",
      "6    12\n",
      "7     6\n",
      "8    32\n",
      "dtype: int64\n"
     ]
    }
   ],
   "source": [
    "temp_list = [12,34,12,5,23,5,12,6,32]\n",
    "\n",
    "print(f'List : \\n{temp_list}')\n",
    "\n",
    "# linebreak\n",
    "print('-'*50)\n",
    "\n",
    "# make series \n",
    "series_data = pd.Series(temp_list)\n",
    "\n",
    "print(f'Series \\n {series_data}')"
   ]
  },
  {
   "cell_type": "markdown",
   "id": "7393fd44",
   "metadata": {},
   "source": [
    "---\n",
    "\n",
    " 14. Convert DataFrame column to Series.\n"
   ]
  },
  {
   "cell_type": "code",
   "execution_count": null,
   "id": "717d5ede",
   "metadata": {},
   "outputs": [
    {
     "name": "stdout",
     "output_type": "stream",
     "text": [
      "      Name  Score\n",
      "0      Ali    0.0\n",
      "1    Amina   92.0\n",
      "2    Fizza    NaN\n",
      "3  Huzaifa   88.0\n",
      "4     Izza    NaN\n",
      "\n",
      "\n",
      "0     0.0\n",
      "1    92.0\n",
      "2     NaN\n",
      "3    88.0\n",
      "4     NaN\n",
      "Name: Score, dtype: float64\n"
     ]
    }
   ],
   "source": [
    "# see data frame\n",
    "print(updated_df)\n",
    "\n",
    "# Create series data\n",
    "series_data = pd.Series(updated_df['Score'])\n",
    "\n",
    "print(f'\\n\\n{series_data}')"
   ]
  },
  {
   "cell_type": "markdown",
   "id": "2d3d8843",
   "metadata": {},
   "source": [
    "---\n",
    "\n",
    " 15. Save DataFrame to CSV.\n"
   ]
  },
  {
   "cell_type": "code",
   "execution_count": null,
   "id": "a96b5093",
   "metadata": {},
   "outputs": [
    {
     "name": "stdout",
     "output_type": "stream",
     "text": [
      "DataFrame successfully saved to updated_data.csv\n"
     ]
    }
   ],
   "source": [
    "updated_df.to_csv('updated_data.csv')\n",
    "print('DataFrame successfully saved to updated_data.csv')"
   ]
  },
  {
   "cell_type": "markdown",
   "id": "615cacd6",
   "metadata": {},
   "source": [
    "---\n",
    "\n",
    " 16. Find unique values in a column.\n"
   ]
  },
  {
   "cell_type": "code",
   "execution_count": null,
   "id": "8a11e699",
   "metadata": {},
   "outputs": [
    {
     "name": "stdout",
     "output_type": "stream",
     "text": [
      "      Name   Age    Subject  Marks Result\n",
      "0  Huzaifa  23.0   Computer   90.0   Pass\n",
      "1    Amina  25.0       Arts   70.0   Pass\n",
      "2      Ali  26.0    Physics   60.0   Pass\n",
      "3     Izza  27.0      Maths   50.0   Fail\n",
      "4    Fizza  25.0  Chemistry   67.0   Pass\n",
      "--------------------------------------------------\n",
      "Unique Values : \n",
      "\n",
      "['Pass' 'Fail']\n"
     ]
    }
   ],
   "source": [
    "# see data \n",
    "print(cleaned_data)\n",
    "\n",
    "print('-' * 50)\n",
    "\n",
    "print(f'Unique Values : \\n\\n{cleaned_data[\"Result\"].unique()}')"
   ]
  },
  {
   "cell_type": "markdown",
   "id": "21226832",
   "metadata": {},
   "source": [
    "--- \n",
    "\n",
    " 17. Count non-null values.\n"
   ]
  },
  {
   "cell_type": "code",
   "execution_count": null,
   "id": "b97cf5ab",
   "metadata": {},
   "outputs": [
    {
     "name": "stdout",
     "output_type": "stream",
     "text": [
      "      Name  Score\n",
      "0      Ali    0.0\n",
      "1    Amina   92.0\n",
      "2    Fizza    NaN\n",
      "3  Huzaifa   88.0\n",
      "4     Izza    NaN\n",
      "--------------------------------------------------\n",
      "Score\n",
      "0.0     1\n",
      "92.0    1\n",
      "88.0    1\n",
      "Name: count, dtype: int64\n",
      "--------------------------------------------------\n",
      "Name     Score\n",
      "Ali      0.0      1\n",
      "Amina    92.0     1\n",
      "Huzaifa  88.0     1\n",
      "Name: count, dtype: int64\n"
     ]
    }
   ],
   "source": [
    "# see data \n",
    "print(updated_df)\n",
    "\n",
    "linebreak()\n",
    "\n",
    "# Count specific col\n",
    "print(updated_df['Score'].value_counts(dropna=True))\n",
    "\n",
    "linebreak()\n",
    "\n",
    "# Count all cols\n",
    "print(updated_df.value_counts(dropna=True))\n"
   ]
  },
  {
   "cell_type": "markdown",
   "id": "fa952686",
   "metadata": {},
   "source": [
    "---\n",
    "\n",
    " 18. Create a pivot table.\n"
   ]
  },
  {
   "cell_type": "code",
   "execution_count": null,
   "id": "98965932",
   "metadata": {},
   "outputs": [
    {
     "name": "stdout",
     "output_type": "stream",
     "text": [
      "Pivot Table:\n",
      " Month      Feb    Jan\n",
      "Product              \n",
      "A        150.0  100.0\n",
      "B          0.0  200.0\n",
      "C        350.0  300.0\n"
     ]
    }
   ],
   "source": [
    "# create data \n",
    "\n",
    "data = {\n",
    "    \"Product\": [\"A\", \"A\", \"B\", \"B\", \"C\", \"C\"],\n",
    "    \"Month\": [\"Jan\", \"Feb\", \"Jan\", \"Feb\", \"Jan\", \"Feb\"],\n",
    "    \"Sales\": [100, 150, 200, None, 300, 350]\n",
    "}\n",
    "\n",
    "# create dataframe\n",
    "sales_data = pd.DataFrame(data)\n",
    "\n",
    "# create pivot table\n",
    "summary_table = pd.pivot_table(sales_data, \n",
    "                                index='Product',\n",
    "                                columns='Month',\n",
    "                                values='Sales',\n",
    "                                aggfunc='sum',\n",
    "                                fill_value=0)\n",
    "\n",
    "# print pivot table\n",
    "print(\"Pivot Table:\\n\", summary_table.sort_index(axis=1, ascending=True))\n"
   ]
  },
  {
   "cell_type": "markdown",
   "id": "89866c19",
   "metadata": {},
   "source": [
    "---\n",
    "\n",
    " 19. Rename columns.\n"
   ]
  },
  {
   "cell_type": "code",
   "execution_count": null,
   "id": "41cd307c",
   "metadata": {},
   "outputs": [
    {
     "name": "stdout",
     "output_type": "stream",
     "text": [
      "      Name  Score\n",
      "0      Ali    0.0\n",
      "1    Amina   92.0\n",
      "2    Fizza    NaN\n",
      "3  Huzaifa   88.0\n",
      "4     Izza    NaN\n",
      "--------------------------------------------------\n",
      "      Name  Scores\n",
      "0      Ali     0.0\n",
      "1    Amina    92.0\n",
      "2    Fizza     NaN\n",
      "3  Huzaifa    88.0\n",
      "4     Izza     NaN\n"
     ]
    }
   ],
   "source": [
    "# check data \n",
    "print(updated_df.head())\n",
    "\n",
    "# Rename score to scores \n",
    "updated_df.rename(columns={'Score': 'Scores'}, inplace=True)\n",
    "\n",
    "linebreak()\n",
    "print(updated_df)"
   ]
  },
  {
   "cell_type": "markdown",
   "id": "4f7268a6",
   "metadata": {},
   "source": [
    "---\n",
    "\n",
    " 20. Check for missing values.\n"
   ]
  },
  {
   "cell_type": "code",
   "execution_count": null,
   "id": "77ecd328",
   "metadata": {},
   "outputs": [
    {
     "data": {
      "text/plain": [
       "Name      0\n",
       "Scores    2\n",
       "dtype: int64"
      ]
     },
     "execution_count": 25,
     "metadata": {},
     "output_type": "execute_result"
    }
   ],
   "source": [
    "# sum of missing values in dataframe\n",
    "updated_df.isnull().sum()\n"
   ]
  },
  {
   "cell_type": "markdown",
   "id": "5ead5342",
   "metadata": {},
   "source": [
    "---\n",
    "\n",
    " 21. Compute column median.\n"
   ]
  },
  {
   "cell_type": "code",
   "execution_count": null,
   "id": "5c9a8404",
   "metadata": {},
   "outputs": [
    {
     "data": {
      "text/plain": [
       "np.float64(88.0)"
      ]
     },
     "execution_count": 26,
     "metadata": {},
     "output_type": "execute_result"
    }
   ],
   "source": [
    "updated_df['Scores'].median()"
   ]
  },
  {
   "cell_type": "markdown",
   "id": "0ec23256",
   "metadata": {},
   "source": [
    "--- \n",
    "\n",
    " 22. Double values in a column."
   ]
  },
  {
   "cell_type": "code",
   "execution_count": null,
   "id": "ef8b3df7",
   "metadata": {},
   "outputs": [
    {
     "name": "stdout",
     "output_type": "stream",
     "text": [
      "      Name  Scores\n",
      "0      Ali     0.0\n",
      "1    Amina    92.0\n",
      "2    Fizza     NaN\n",
      "3  Huzaifa    88.0\n",
      "4     Izza     NaN\n",
      "--------------------------------------------------\n",
      "      Name  Scores\n",
      "0      Ali     0.0\n",
      "1    Amina   184.0\n",
      "2    Fizza     NaN\n",
      "3  Huzaifa   176.0\n",
      "4     Izza     NaN\n"
     ]
    }
   ],
   "source": [
    "# check data\n",
    "print(updated_df)\n",
    "\n",
    "updated_df['Scores'] = updated_df['Scores'] * 2\n",
    "\n",
    "linebreak()\n",
    "\n",
    "\n",
    "print(updated_df)"
   ]
  },
  {
   "cell_type": "markdown",
   "id": "c175e3fe",
   "metadata": {},
   "source": [
    "---\n",
    "\n",
    " 23. Create a bar plot.\n"
   ]
  },
  {
   "cell_type": "code",
   "execution_count": null,
   "metadata": {},
   "outputs": [
    {
     "data": {
      "image/png": "[encoded data removed]",
      "text/plain": [
       "<Figure size 640x480 with 1 Axes>"
      ]
     },
     "metadata": {},
     "output_type": "display_data"
    }
   ],
   "source": [
    "import matplotlib.pyplot as plt\n",
    "\n",
    "# create bar plot\n",
    "plt.bar(updated_df['Name'], updated_df['Scores'])\n",
    "plt.xlabel('Name')\n",
    "plt.ylabel('Scores')\n",
    "plt.show()"
   ]
  },
  {
   "cell_type": "markdown",
   "id": "0b6030ef",
   "metadata": {},
   "source": [
    "---\n",
    "\n",
    "24. Subplot with bar and line charts."
   ]
  },
  {
   "cell_type": "code",
   "execution_count": null,
   "id": "43aaafa5",
   "metadata": {},
   "outputs": [
    {
     "data": {
      "image/png": "[encoded data removed]",
      "text/plain": [
       "<Figure size 1000x500 with 2 Axes>"
      ]
     },
     "metadata": {},
     "output_type": "display_data"
    }
   ],
   "source": [
    "import seaborn as sns\n",
    "fig, axs = plt.subplots(1,2, figsize=(10,5))\n",
    "\n",
    "sns.barplot(x=updated_df['Name'],y=updated_df['Scores'], ax=axs[0])\n",
    "sns.lineplot(x=updated_df['Name'],y=updated_df['Scores'], ax=axs[1])\n",
    "\n",
    "plt.tight_layout()\n",
    "plt.show()"
   ]
  }
 ],
 "metadata": {
  "kernelspec": {
   "display_name": "venv",
   "language": "python",
   "name": "python3"
  },
  "language_info": {
   "codemirror_mode": {
    "name": "ipython",
    "version": 3
   },
   "file_extension": ".py",
   "mimetype": "text/x-python",
   "name": "python",
   "nbconvert_exporter": "python",
   "pygments_lexer": "ipython3",
   "version": "3.12.1"
  }
 },
 "nbformat": 4,
 "nbformat_minor": 5
}
